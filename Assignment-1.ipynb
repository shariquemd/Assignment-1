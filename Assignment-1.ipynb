{
 "cells": [
  {
   "cell_type": "markdown",
   "id": "d88ae455",
   "metadata": {},
   "source": [
    "Answer1"
   ]
  },
  {
   "cell_type": "code",
   "execution_count": 29,
   "id": "0913a112",
   "metadata": {},
   "outputs": [],
   "source": [
    "string=\"Sharique\""
   ]
  },
  {
   "cell_type": "code",
   "execution_count": 7,
   "id": "3b2814b7",
   "metadata": {},
   "outputs": [],
   "source": [
    "l=[2,3.5,\"Sharique\",'x']"
   ]
  },
  {
   "cell_type": "code",
   "execution_count": 12,
   "id": "dd83cddd",
   "metadata": {},
   "outputs": [],
   "source": [
    "x=2.5"
   ]
  },
  {
   "cell_type": "code",
   "execution_count": 16,
   "id": "2c41d727",
   "metadata": {},
   "outputs": [],
   "source": [
    "t=(\"Sharique\",\"f\",3.5674,-5)"
   ]
  },
  {
   "cell_type": "markdown",
   "id": "af9dd61a",
   "metadata": {},
   "source": [
    "Answer2"
   ]
  },
  {
   "cell_type": "code",
   "execution_count": 17,
   "id": "4bd3fb84",
   "metadata": {},
   "outputs": [],
   "source": [
    "(i)string\n",
    "(ii)string\n",
    "(iii)list\n",
    "(iv)int"
   ]
  },
  {
   "cell_type": "markdown",
   "id": "57cc6769",
   "metadata": {},
   "source": [
    "Answer3"
   ]
  },
  {
   "cell_type": "code",
   "execution_count": 43,
   "id": "88c47304",
   "metadata": {},
   "outputs": [],
   "source": [
    "(i) Division (float): divides the first operand by the second\n",
    "(ii) Modulus: returns the remainder when the first operand is divided by the second\n",
    "(iii) Division (floor): divides the first operand by the second \n",
    "(iv) Power: Returns first raised to power second"
   ]
  },
  {
   "cell_type": "code",
   "execution_count": 79,
   "id": "1930e173",
   "metadata": {},
   "outputs": [
    {
     "data": {
      "text/plain": [
       "8.375"
      ]
     },
     "execution_count": 79,
     "metadata": {},
     "output_type": "execute_result"
    }
   ],
   "source": [
    "67/8"
   ]
  },
  {
   "cell_type": "code",
   "execution_count": 44,
   "id": "e2d67bbb",
   "metadata": {},
   "outputs": [
    {
     "data": {
      "text/plain": [
       "4"
      ]
     },
     "execution_count": 44,
     "metadata": {},
     "output_type": "execute_result"
    }
   ],
   "source": [
    "34%5"
   ]
  },
  {
   "cell_type": "code",
   "execution_count": 46,
   "id": "c6e1a1f7",
   "metadata": {},
   "outputs": [
    {
     "data": {
      "text/plain": [
       "8"
      ]
     },
     "execution_count": 46,
     "metadata": {},
     "output_type": "execute_result"
    }
   ],
   "source": [
    "67//8"
   ]
  },
  {
   "cell_type": "code",
   "execution_count": 47,
   "id": "e8228b0c",
   "metadata": {},
   "outputs": [
    {
     "data": {
      "text/plain": [
       "3125"
      ]
     },
     "execution_count": 47,
     "metadata": {},
     "output_type": "execute_result"
    }
   ],
   "source": [
    "5**5"
   ]
  },
  {
   "cell_type": "markdown",
   "id": "641e1888",
   "metadata": {},
   "source": [
    "Answer4"
   ]
  },
  {
   "cell_type": "code",
   "execution_count": 50,
   "id": "c0865aec",
   "metadata": {},
   "outputs": [],
   "source": [
    "l=[\"Sharique\",(45.67,67),\"JMI\",\"ML\",56,8.90,\"PW\",892,87,{\"AI\",45}]"
   ]
  },
  {
   "cell_type": "code",
   "execution_count": 51,
   "id": "41d46333",
   "metadata": {},
   "outputs": [
    {
     "name": "stdout",
     "output_type": "stream",
     "text": [
      "Sharique\n",
      "<class 'str'>\n",
      "(45.67, 67)\n",
      "<class 'tuple'>\n",
      "JMI\n",
      "<class 'str'>\n",
      "ML\n",
      "<class 'str'>\n",
      "56\n",
      "<class 'int'>\n",
      "8.9\n",
      "<class 'float'>\n",
      "PW\n",
      "<class 'str'>\n",
      "892\n",
      "<class 'int'>\n",
      "87\n",
      "<class 'int'>\n",
      "{45, 'AI'}\n",
      "<class 'set'>\n"
     ]
    }
   ],
   "source": [
    "for i in l:\n",
    "    print(i)\n",
    "    print(type(i))"
   ]
  },
  {
   "cell_type": "markdown",
   "id": "6e254513",
   "metadata": {},
   "source": [
    "Answer5"
   ]
  },
  {
   "cell_type": "code",
   "execution_count": 78,
   "id": "097d0520",
   "metadata": {},
   "outputs": [
    {
     "name": "stdout",
     "output_type": "stream",
     "text": [
      "1.0 is purely divisible by 5 1 times.\n"
     ]
    }
   ],
   "source": [
    "A=5\n",
    "B=5\n",
    "count = 0\n",
    "while A % B == 0:\n",
    "    A = A / B\n",
    "    count += 1\n",
    "if A == 1:\n",
    "    print(f\"{A} is purely divisible by {B} {count} times.\")\n",
    "else:\n",
    "    print(f\"{A} is not purely divisible by {B}.\")"
   ]
  },
  {
   "cell_type": "markdown",
   "id": "5aca896b",
   "metadata": {},
   "source": [
    "Answer6"
   ]
  },
  {
   "cell_type": "code",
   "execution_count": 80,
   "id": "9910ed89",
   "metadata": {},
   "outputs": [
    {
     "name": "stdout",
     "output_type": "stream",
     "text": [
      "3\n",
      "6\n",
      "9\n",
      "12\n",
      "15\n",
      "18\n",
      "21\n",
      "24\n"
     ]
    }
   ],
   "source": [
    "l=[1,2,3,4,5,6,7,8,9,10,11,12,13,14,15,16,17,18,19,20,21,22,23,24,25]\n",
    "for i in l:\n",
    "    if i % 3 == 0:\n",
    "        print(i)"
   ]
  },
  {
   "cell_type": "markdown",
   "id": "09fdd70e",
   "metadata": {},
   "source": [
    "Answer7"
   ]
  },
  {
   "cell_type": "code",
   "execution_count": null,
   "id": "56b2a873",
   "metadata": {},
   "outputs": [],
   "source": [
    "Immutable:Immutable data types are those whose values cannot be modified once they are created. Any operation that appears to modify an immutable object actually creates a new object with the modified value.\n",
    "    Example:int,float,str,tuple\n",
    "Mutable:Mutable data types allow their values to be modified after creation. This means you can change the content of the object without creating a new one.\n",
    "    Example:list,dict,set"
   ]
  }
 ],
 "metadata": {
  "kernelspec": {
   "display_name": "Python 3 (ipykernel)",
   "language": "python",
   "name": "python3"
  },
  "language_info": {
   "codemirror_mode": {
    "name": "ipython",
    "version": 3
   },
   "file_extension": ".py",
   "mimetype": "text/x-python",
   "name": "python",
   "nbconvert_exporter": "python",
   "pygments_lexer": "ipython3",
   "version": "3.11.4"
  }
 },
 "nbformat": 4,
 "nbformat_minor": 5
}
